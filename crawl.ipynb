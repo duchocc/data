{
 "cells": [
  {
   "cell_type": "code",
   "execution_count": 1,
   "metadata": {},
   "outputs": [],
   "source": [
    "import requests\n",
    "from bs4 import BeautifulSoup\n",
    "import json"
   ]
  },
  {
   "cell_type": "code",
   "execution_count": 2,
   "metadata": {},
   "outputs": [
    {
     "name": "stdout",
     "output_type": "stream",
     "text": [
      "Bị tạm giữ vì xưng danh phóng viên để lấy tiền của doanh nghiệp\n",
      "Sinh con đầu lòng nhưng bị gán ghép thành 'sinh 14 con từ 14 người cha'\n",
      "Khó tin chuyện báo Nhật xếp hạng 'trường có nữ sinh dễ dụ'\n",
      "1-6: Trấn Thành - Hari 'hấp hôn', Thủy Tiên mắng báo lá cải…\n",
      "Những cụm từ du khách nên lưu ý kẻo 'mang họa' khi đi chơi\n",
      "Chuyện PR và “đền thờ Tổ” trường tồn nhất của nghệ sĩ\n",
      "Thời thông cáo thượng vàng hạ cám và tin giật gân?\n",
      "Tẩy chay tin tức nhảm nhí, thảm họa soi mói được không?\n",
      "Nổi tiếng bằng \"trò bẩn\", hậu quả khó lường\n",
      "\"Siêu cải\" News of The World\n",
      "Rẻ tiền nhưng đắt hàng\n",
      "Khi đạo đức bị tàn phá\n"
     ]
    }
   ],
   "source": [
    "\n",
    "\n",
    "article_links = ['https://tuoitre.vn/bi-tam-giu-vi-xung-danh-phong-vien-de-lay-tien-cua-doanh-nghiep-20201106140002376.htm', 'https://tuoitre.vn/sinh-con-dau-long-nhung-bi-gan-ghep-thanh-sinh-14-con-tu-14-nguoi-cha-20191219144932632.htm',\n",
    "        'https://tuoitre.vn/kho-tin-chuyen-bao-nhat-xep-hang-truong-co-nu-sinh-de-du-20190110123143742.htm',\n",
    "        'https://tuoitre.vn/1-6-tran-thanh-hari-hap-hon-thuy-tien-mang-bao-la-cai-20180601183555922.htm',\n",
    "        'https://tuoitre.vn/du-lich/nhung-cum-tu-du-khach-nen-luu-y-keo-mang-hoa-khi-di-choi-20170904154701481.htm',\n",
    "        'https://tuoitre.vn/chuyen-pr-va-den-tho-to-truong-ton-nhat-cua-nghe-si-1075087.htm',\n",
    "        'https://tuoitre.vn/thoi-thong-cao-thuong-vang-ha-cam-va-tin-giat-gan-1074268.htm',\n",
    "        'https://tuoitre.vn/tay-chay-tin-tuc-nham-nhi-tham-hoa-soi-moi-duoc-khong-1063816.htm',\n",
    "        'https://tuoitre.vn/noi-tieng-bang-tro-ban-hau-qua-kho-luong-538056.htm',\n",
    "        'https://tuoitre.vn/sieu-cai-news-of-the-world-498232.htm',\n",
    "        'https://tuoitre.vn/re-tien-nhung-dat-hang-498535.htm',\n",
    "        'https://tuoitre.vn/khi-dao-duc-bi-tan-pha-444005.htm']\n",
    "headlines = []\n",
    "is_sarcastic = []\n",
    "for url in article_links:\n",
    "    response = requests.get(url)\n",
    "    html_content = response.content\n",
    "\n",
    "    soup = BeautifulSoup(html_content, 'html.parser')\n",
    "\n",
    "    h1_element = soup.find('h1', class_='detail-title article-title')\n",
    "    if h1_element is not None:\n",
    "        title_text = h1_element.text\n",
    "        headlines.append(title_text)\n",
    "        is_sarcastic.append(1)\n",
    "        print(title_text)\n",
    "    else:\n",
    "        print(\"Không tìm thấy tiêu đề cho URL:\", url)\n"
   ]
  },
  {
   "cell_type": "code",
   "execution_count": 3,
   "metadata": {},
   "outputs": [
    {
     "name": "stdout",
     "output_type": "stream",
     "text": [
      "Tin chuyển nhượng 19/6: Thêm 2 ngôi sao Chelsea sắp chuyển tới Saudi Arabia\n",
      "Kết quả Hong Kong (TQ) 0-1 Thái Lan: Lão tướng Dangda lập công \n",
      "Rasmus Hojlund có thực sự là Erling Haaland 2.0?\n",
      "Tạm biệt James Milner, \"Mr Tất Cả\" của Liverpool\n",
      "Nhận định bóng đá Áo vs Thụy Điển, 01h45 ngày 21/6\n"
     ]
    }
   ],
   "source": [
    "\n",
    "article_links = ['https://bongdaplus.vn/tin-chuyen-nhuong/tin-chuyen-nhuong-19-6-them-2-ngoi-sao-chelsea-sap-chuyen-toi-saudi-arabia-4031702306.html',\n",
    "                 'https://bongdaplus.vn/bong-da-chau-a/ket-qua-hong-kong-vs-thai-lan-lao-tuong-dangda-lap-cong-4031662306.html',\n",
    "                 'https://bongdaplus.vn/serie-a/rasmus-hojlund-co-thuc-su-la-erling-haaland-2-0-4028432306.html',\n",
    "                 'https://bongdaplus.vn/ngoai-hang-anh/tam-biet-james-milner-mr-tat-ca-cua-liverpool-4024112306.html',\n",
    "                 'https://bongdaplus.vn/euro-cup-chau-au/nhan-dinh-bong-da-ao-vs-thuy-dien-01h45-ngay-21-6-4031762306.html']\n",
    "\n",
    "for url in article_links:\n",
    "    response = requests.get(url)\n",
    "    html_content = response.content\n",
    "\n",
    "    soup = BeautifulSoup(html_content, 'html.parser')\n",
    "\n",
    "    h1_element = soup.find('h1', class_='artitle')\n",
    "    if h1_element is not None:\n",
    "        title_text = h1_element.text\n",
    "        headlines.append(title_text)\n",
    "        is_sarcastic.append(0)\n",
    "        print(title_text)\n",
    "    else:\n",
    "        print(\"Không tìm thấy tiêu đề cho URL:\", url)\n"
   ]
  },
  {
   "cell_type": "code",
   "execution_count": 4,
   "metadata": {},
   "outputs": [],
   "source": [
    "data = []\n",
    "for headline, sarcastic, link in zip(headlines, is_sarcastic, article_links):\n",
    "    data.append({\n",
    "        \"headline:\": headline,\n",
    "        \"article_link\": link,\n",
    "        \"is_sarcastic\": sarcastic\n",
    "    })"
   ]
  },
  {
   "cell_type": "code",
   "execution_count": 5,
   "metadata": {},
   "outputs": [],
   "source": [
    "with open('my_sarcasm_dataset.json', 'w') as file:\n",
    "    for record in data:\n",
    "        file.write(json.dumps(record) + '\\n')"
   ]
  },
  {
   "cell_type": "code",
   "execution_count": 1,
   "metadata": {},
   "outputs": [
    {
     "name": "stdout",
     "output_type": "stream",
     "text": [
      "Bị tạm giữ vì xưng danh phóng viên để lấy tiền của doanh nghiệp\n",
      "Sinh con đầu lòng nhưng bị gán ghép thành 'sinh 14 con từ 14 người cha'\n",
      "Khó tin chuyện báo Nhật xếp hạng 'trường có nữ sinh dễ dụ'\n",
      "1-6: Trấn Thành - Hari 'hấp hôn', Thủy Tiên mắng báo lá cải…\n",
      "Những cụm từ du khách nên lưu ý kẻo 'mang họa' khi đi chơi\n",
      "Chuyện PR và “đền thờ Tổ” trường tồn nhất của nghệ sĩ\n",
      "Thời thông cáo thượng vàng hạ cám và tin giật gân?\n",
      "Tẩy chay tin tức nhảm nhí, thảm họa soi mói được không?\n",
      "Nổi tiếng bằng \"trò bẩn\", hậu quả khó lường\n",
      "\"Siêu cải\" News of The World\n",
      "Rẻ tiền nhưng đắt hàng\n",
      "Khi đạo đức bị tàn phá\n",
      "Tin chuyển nhượng 19/6: Thêm 2 ngôi sao Chelsea sắp chuyển tới Saudi Arabia\n",
      "Kết quả Hong Kong (TQ) 0-1 Thái Lan: Lão tướng Dangda lập công \n",
      "Rasmus Hojlund có thực sự là Erling Haaland 2.0?\n",
      "Tạm biệt James Milner, \"Mr Tất Cả\" của Liverpool\n",
      "Nhận định bóng đá Áo vs Thụy Điển, 01h45 ngày 21/6\n"
     ]
    }
   ],
   "source": [
    "import requests\n",
    "from bs4 import BeautifulSoup\n",
    "import json\n",
    "\n",
    "article_links = [\n",
    "    'https://tuoitre.vn/bi-tam-giu-vi-xung-danh-phong-vien-de-lay-tien-cua-doanh-nghiep-20201106140002376.htm',\n",
    "    'https://tuoitre.vn/sinh-con-dau-long-nhung-bi-gan-ghep-thanh-sinh-14-con-tu-14-nguoi-cha-20191219144932632.htm',\n",
    "    'https://tuoitre.vn/kho-tin-chuyen-bao-nhat-xep-hang-truong-co-nu-sinh-de-du-20190110123143742.htm',\n",
    "    'https://tuoitre.vn/1-6-tran-thanh-hari-hap-hon-thuy-tien-mang-bao-la-cai-20180601183555922.htm',\n",
    "    'https://tuoitre.vn/du-lich/nhung-cum-tu-du-khach-nen-luu-y-keo-mang-hoa-khi-di-choi-20170904154701481.htm',\n",
    "    'https://tuoitre.vn/chuyen-pr-va-den-tho-to-truong-ton-nhat-cua-nghe-si-1075087.htm',\n",
    "    'https://tuoitre.vn/thoi-thong-cao-thuong-vang-ha-cam-va-tin-giat-gan-1074268.htm',\n",
    "    'https://tuoitre.vn/tay-chay-tin-tuc-nham-nhi-tham-hoa-soi-moi-duoc-khong-1063816.htm',\n",
    "    'https://tuoitre.vn/noi-tieng-bang-tro-ban-hau-qua-kho-luong-538056.htm',\n",
    "    'https://tuoitre.vn/sieu-cai-news-of-the-world-498232.htm',\n",
    "    'https://tuoitre.vn/re-tien-nhung-dat-hang-498535.htm',\n",
    "    'https://tuoitre.vn/khi-dao-duc-bi-tan-pha-444005.htm'\n",
    "]\n",
    "headlines = []\n",
    "is_sarcastic = []\n",
    "for url in article_links:\n",
    "    response = requests.get(url)\n",
    "    html_content = response.content\n",
    "    soup = BeautifulSoup(html_content, 'html.parser')\n",
    "    h1_element = soup.find('h1', class_='detail-title article-title')\n",
    "    if h1_element is not None:\n",
    "        title_text = h1_element.text\n",
    "        headlines.append(title_text)\n",
    "        is_sarcastic.append(1)\n",
    "        print(title_text)\n",
    "    else:\n",
    "        print(\"Không tìm thấy tiêu đề cho URL:\", url)\n",
    "\n",
    "article_links = [\n",
    "    'https://bongdaplus.vn/tin-chuyen-nhuong/tin-chuyen-nhuong-19-6-them-2-ngoi-sao-chelsea-sap-chuyen-toi-saudi-arabia-4031702306.html',\n",
    "    'https://bongdaplus.vn/bong-da-chau-a/ket-qua-hong-kong-vs-thai-lan-lao-tuong-dangda-lap-cong-4031662306.html',\n",
    "    'https://bongdaplus.vn/serie-a/rasmus-hojlund-co-thuc-su-la-erling-haaland-2-0-4028432306.html',\n",
    "    'https://bongdaplus.vn/ngoai-hang-anh/tam-biet-james-milner-mr-tat-ca-cua-liverpool-4024112306.html',\n",
    "    'https://bongdaplus.vn/euro-cup-chau-au/nhan-dinh-bong-da-ao-vs-thuy-dien-01h45-ngay-21-6-4031762306.html'\n",
    "]\n",
    "for url in article_links:\n",
    "    response = requests.get(url)\n",
    "    html_content = response.content\n",
    "    soup = BeautifulSoup(html_content, 'html.parser')\n",
    "    h1_element = soup.find('h1', class_='artitle')\n",
    "    if h1_element is not None:\n",
    "        title_text = h1_element.text\n",
    "        headlines.append(title_text)\n",
    "        is_sarcastic.append(0)\n",
    "        print(title_text)\n",
    "    else:\n",
    "        print(\"Không tìm thấy tiêu đề cho URL:\", url)\n",
    "\n",
    "data = []\n",
    "for headline, sarcastic, link in zip(headlines, is_sarcastic, article_links):\n",
    "    data.append({\n",
    "        \"headline\": headline,\n",
    "        \"article_link\": link,\n",
    "        \"is_sarcastic\": sarcastic\n",
    "    })\n",
    "\n",
    "with open('my_sarcasm_dataset.json', 'a') as file:\n",
    "    for record in data:\n",
    "        file.write(json.dumps(record) + '\\n')\n"
   ]
  },
  {
   "cell_type": "code",
   "execution_count": null,
   "metadata": {},
   "outputs": [],
   "source": []
  }
 ],
 "metadata": {
  "kernelspec": {
   "display_name": "env1",
   "language": "python",
   "name": "python3"
  },
  "language_info": {
   "codemirror_mode": {
    "name": "ipython",
    "version": 3
   },
   "file_extension": ".py",
   "mimetype": "text/x-python",
   "name": "python",
   "nbconvert_exporter": "python",
   "pygments_lexer": "ipython3",
   "version": "3.10.11"
  },
  "orig_nbformat": 4
 },
 "nbformat": 4,
 "nbformat_minor": 2
}
